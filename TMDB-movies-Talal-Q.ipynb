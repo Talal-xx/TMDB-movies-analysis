{
 "cells": [
  {
   "cell_type": "markdown",
   "metadata": {},
   "source": [
    "\n",
    "\n",
    "# Project: TMDB-movies\n",
    "\n",
    "## Table of Contents\n",
    "<ul>\n",
    "<li><a href=\"#intro\">Introduction</a></li>\n",
    "<li><a href=\"#wrangling\">Data Wrangling</a></li>\n",
    "<li><a href=\"#eda\">Exploratory Data Analysis</a></li>\n",
    "<li><a href=\"#conclusions\">Conclusions</a></li>\n",
    "</ul>"
   ]
  },
  {
   "cell_type": "markdown",
   "metadata": {},
   "source": [
    "<a id='intro'></a>\n",
    "## Introduction\n",
    "\n",
    "> I chose the TMDB-movies to do an analysis on it. I wrote this summary after I have finished the analysis part. I really enjoyed doing this project and I hope I did well!. \n",
    "\n",
    "> Through the analysis step, starting with loading the data and discovering the dataset features and datatypes thinking about the most important part in data analysis (What can we conclude or benefit from this data) and I came up with several questions and I picked two questions.\n",
    "\n",
    "> I removed many unuseful columns in my case or the columns that not related to the two questions I have picked. Also, these columns lack a lot of rows so getting rid of them was a good idea.\n",
    "\n",
    "\n",
    "### The features that I used are:\n",
    ">budget\n",
    "\n",
    ">release_year\n",
    "\n",
    ">vote_average\n",
    "\n",
    "I have 5 questions but I'll pick 2\n",
    "\n",
    "The questions are:\n",
    "\n",
    "1.\tAre movies with larger budget receive better ratings?\n",
    "2.\tAre the cast effects on the popularity of the movie?\n",
    "3.\tWhich genre makes more revenue?\n",
    "4.\tWhich decade had the best movies ratings?\n",
    "5.\tIs the director play important role in the quality of the movie?\n",
    "\n",
    "## These questions that I'm going to answer:\n",
    "#### 1.\tAre movies with larger budget receive better ratings?\n",
    "#### 4.\tWhich decade had the best movies ratings?\n",
    "\n",
    "\n",
    "\n",
    "\n"
   ]
  },
  {
   "cell_type": "markdown",
   "metadata": {},
   "source": [
    "------------"
   ]
  },
  {
   "cell_type": "markdown",
   "metadata": {},
   "source": [
    "### Let's start our analysis journeyz"
   ]
  },
  {
   "cell_type": "code",
   "execution_count": 1,
   "metadata": {},
   "outputs": [],
   "source": [
    "# Needed Imports\n",
    "import pandas as pd\n",
    "import numpy as np\n",
    "import matplotlib.pyplot as plt\n",
    "\n",
    "%matplotlib inline"
   ]
  },
  {
   "cell_type": "markdown",
   "metadata": {},
   "source": [
    "<a id='wrangling'></a>\n",
    "## Data Wrangling\n",
    "\n",
    "\n",
    "\n",
    "### General Properties"
   ]
  },
  {
   "cell_type": "code",
   "execution_count": 2,
   "metadata": {},
   "outputs": [],
   "source": [
    "# Load your data and print out a few lines. \n",
    "df = pd.read_csv('tmdb-movies.csv')"
   ]
  },
  {
   "cell_type": "code",
   "execution_count": 3,
   "metadata": {},
   "outputs": [
    {
     "data": {
      "text/html": [
       "<div>\n",
       "<style scoped>\n",
       "    .dataframe tbody tr th:only-of-type {\n",
       "        vertical-align: middle;\n",
       "    }\n",
       "\n",
       "    .dataframe tbody tr th {\n",
       "        vertical-align: top;\n",
       "    }\n",
       "\n",
       "    .dataframe thead th {\n",
       "        text-align: right;\n",
       "    }\n",
       "</style>\n",
       "<table border=\"1\" class=\"dataframe\">\n",
       "  <thead>\n",
       "    <tr style=\"text-align: right;\">\n",
       "      <th></th>\n",
       "      <th>id</th>\n",
       "      <th>imdb_id</th>\n",
       "      <th>popularity</th>\n",
       "      <th>budget</th>\n",
       "      <th>revenue</th>\n",
       "      <th>original_title</th>\n",
       "      <th>cast</th>\n",
       "      <th>homepage</th>\n",
       "      <th>director</th>\n",
       "      <th>tagline</th>\n",
       "      <th>...</th>\n",
       "      <th>overview</th>\n",
       "      <th>runtime</th>\n",
       "      <th>genres</th>\n",
       "      <th>production_companies</th>\n",
       "      <th>release_date</th>\n",
       "      <th>vote_count</th>\n",
       "      <th>vote_average</th>\n",
       "      <th>release_year</th>\n",
       "      <th>budget_adj</th>\n",
       "      <th>revenue_adj</th>\n",
       "    </tr>\n",
       "  </thead>\n",
       "  <tbody>\n",
       "    <tr>\n",
       "      <th>0</th>\n",
       "      <td>135397</td>\n",
       "      <td>tt0369610</td>\n",
       "      <td>32.985763</td>\n",
       "      <td>150000000</td>\n",
       "      <td>1513528810</td>\n",
       "      <td>Jurassic World</td>\n",
       "      <td>Chris Pratt|Bryce Dallas Howard|Irrfan Khan|Vi...</td>\n",
       "      <td>http://www.jurassicworld.com/</td>\n",
       "      <td>Colin Trevorrow</td>\n",
       "      <td>The park is open.</td>\n",
       "      <td>...</td>\n",
       "      <td>Twenty-two years after the events of Jurassic ...</td>\n",
       "      <td>124</td>\n",
       "      <td>Action|Adventure|Science Fiction|Thriller</td>\n",
       "      <td>Universal Studios|Amblin Entertainment|Legenda...</td>\n",
       "      <td>6/9/15</td>\n",
       "      <td>5562</td>\n",
       "      <td>6.5</td>\n",
       "      <td>2015</td>\n",
       "      <td>1.379999e+08</td>\n",
       "      <td>1.392446e+09</td>\n",
       "    </tr>\n",
       "    <tr>\n",
       "      <th>1</th>\n",
       "      <td>76341</td>\n",
       "      <td>tt1392190</td>\n",
       "      <td>28.419936</td>\n",
       "      <td>150000000</td>\n",
       "      <td>378436354</td>\n",
       "      <td>Mad Max: Fury Road</td>\n",
       "      <td>Tom Hardy|Charlize Theron|Hugh Keays-Byrne|Nic...</td>\n",
       "      <td>http://www.madmaxmovie.com/</td>\n",
       "      <td>George Miller</td>\n",
       "      <td>What a Lovely Day.</td>\n",
       "      <td>...</td>\n",
       "      <td>An apocalyptic story set in the furthest reach...</td>\n",
       "      <td>120</td>\n",
       "      <td>Action|Adventure|Science Fiction|Thriller</td>\n",
       "      <td>Village Roadshow Pictures|Kennedy Miller Produ...</td>\n",
       "      <td>5/13/15</td>\n",
       "      <td>6185</td>\n",
       "      <td>7.1</td>\n",
       "      <td>2015</td>\n",
       "      <td>1.379999e+08</td>\n",
       "      <td>3.481613e+08</td>\n",
       "    </tr>\n",
       "    <tr>\n",
       "      <th>2</th>\n",
       "      <td>262500</td>\n",
       "      <td>tt2908446</td>\n",
       "      <td>13.112507</td>\n",
       "      <td>110000000</td>\n",
       "      <td>295238201</td>\n",
       "      <td>Insurgent</td>\n",
       "      <td>Shailene Woodley|Theo James|Kate Winslet|Ansel...</td>\n",
       "      <td>http://www.thedivergentseries.movie/#insurgent</td>\n",
       "      <td>Robert Schwentke</td>\n",
       "      <td>One Choice Can Destroy You</td>\n",
       "      <td>...</td>\n",
       "      <td>Beatrice Prior must confront her inner demons ...</td>\n",
       "      <td>119</td>\n",
       "      <td>Adventure|Science Fiction|Thriller</td>\n",
       "      <td>Summit Entertainment|Mandeville Films|Red Wago...</td>\n",
       "      <td>3/18/15</td>\n",
       "      <td>2480</td>\n",
       "      <td>6.3</td>\n",
       "      <td>2015</td>\n",
       "      <td>1.012000e+08</td>\n",
       "      <td>2.716190e+08</td>\n",
       "    </tr>\n",
       "    <tr>\n",
       "      <th>3</th>\n",
       "      <td>140607</td>\n",
       "      <td>tt2488496</td>\n",
       "      <td>11.173104</td>\n",
       "      <td>200000000</td>\n",
       "      <td>2068178225</td>\n",
       "      <td>Star Wars: The Force Awakens</td>\n",
       "      <td>Harrison Ford|Mark Hamill|Carrie Fisher|Adam D...</td>\n",
       "      <td>http://www.starwars.com/films/star-wars-episod...</td>\n",
       "      <td>J.J. Abrams</td>\n",
       "      <td>Every generation has a story.</td>\n",
       "      <td>...</td>\n",
       "      <td>Thirty years after defeating the Galactic Empi...</td>\n",
       "      <td>136</td>\n",
       "      <td>Action|Adventure|Science Fiction|Fantasy</td>\n",
       "      <td>Lucasfilm|Truenorth Productions|Bad Robot</td>\n",
       "      <td>12/15/15</td>\n",
       "      <td>5292</td>\n",
       "      <td>7.5</td>\n",
       "      <td>2015</td>\n",
       "      <td>1.839999e+08</td>\n",
       "      <td>1.902723e+09</td>\n",
       "    </tr>\n",
       "    <tr>\n",
       "      <th>4</th>\n",
       "      <td>168259</td>\n",
       "      <td>tt2820852</td>\n",
       "      <td>9.335014</td>\n",
       "      <td>190000000</td>\n",
       "      <td>1506249360</td>\n",
       "      <td>Furious 7</td>\n",
       "      <td>Vin Diesel|Paul Walker|Jason Statham|Michelle ...</td>\n",
       "      <td>http://www.furious7.com/</td>\n",
       "      <td>James Wan</td>\n",
       "      <td>Vengeance Hits Home</td>\n",
       "      <td>...</td>\n",
       "      <td>Deckard Shaw seeks revenge against Dominic Tor...</td>\n",
       "      <td>137</td>\n",
       "      <td>Action|Crime|Thriller</td>\n",
       "      <td>Universal Pictures|Original Film|Media Rights ...</td>\n",
       "      <td>4/1/15</td>\n",
       "      <td>2947</td>\n",
       "      <td>7.3</td>\n",
       "      <td>2015</td>\n",
       "      <td>1.747999e+08</td>\n",
       "      <td>1.385749e+09</td>\n",
       "    </tr>\n",
       "  </tbody>\n",
       "</table>\n",
       "<p>5 rows × 21 columns</p>\n",
       "</div>"
      ],
      "text/plain": [
       "       id    imdb_id  popularity     budget     revenue  \\\n",
       "0  135397  tt0369610   32.985763  150000000  1513528810   \n",
       "1   76341  tt1392190   28.419936  150000000   378436354   \n",
       "2  262500  tt2908446   13.112507  110000000   295238201   \n",
       "3  140607  tt2488496   11.173104  200000000  2068178225   \n",
       "4  168259  tt2820852    9.335014  190000000  1506249360   \n",
       "\n",
       "                 original_title  \\\n",
       "0                Jurassic World   \n",
       "1            Mad Max: Fury Road   \n",
       "2                     Insurgent   \n",
       "3  Star Wars: The Force Awakens   \n",
       "4                     Furious 7   \n",
       "\n",
       "                                                cast  \\\n",
       "0  Chris Pratt|Bryce Dallas Howard|Irrfan Khan|Vi...   \n",
       "1  Tom Hardy|Charlize Theron|Hugh Keays-Byrne|Nic...   \n",
       "2  Shailene Woodley|Theo James|Kate Winslet|Ansel...   \n",
       "3  Harrison Ford|Mark Hamill|Carrie Fisher|Adam D...   \n",
       "4  Vin Diesel|Paul Walker|Jason Statham|Michelle ...   \n",
       "\n",
       "                                            homepage          director  \\\n",
       "0                      http://www.jurassicworld.com/   Colin Trevorrow   \n",
       "1                        http://www.madmaxmovie.com/     George Miller   \n",
       "2     http://www.thedivergentseries.movie/#insurgent  Robert Schwentke   \n",
       "3  http://www.starwars.com/films/star-wars-episod...       J.J. Abrams   \n",
       "4                           http://www.furious7.com/         James Wan   \n",
       "\n",
       "                         tagline  ...  \\\n",
       "0              The park is open.  ...   \n",
       "1             What a Lovely Day.  ...   \n",
       "2     One Choice Can Destroy You  ...   \n",
       "3  Every generation has a story.  ...   \n",
       "4            Vengeance Hits Home  ...   \n",
       "\n",
       "                                            overview runtime  \\\n",
       "0  Twenty-two years after the events of Jurassic ...     124   \n",
       "1  An apocalyptic story set in the furthest reach...     120   \n",
       "2  Beatrice Prior must confront her inner demons ...     119   \n",
       "3  Thirty years after defeating the Galactic Empi...     136   \n",
       "4  Deckard Shaw seeks revenge against Dominic Tor...     137   \n",
       "\n",
       "                                      genres  \\\n",
       "0  Action|Adventure|Science Fiction|Thriller   \n",
       "1  Action|Adventure|Science Fiction|Thriller   \n",
       "2         Adventure|Science Fiction|Thriller   \n",
       "3   Action|Adventure|Science Fiction|Fantasy   \n",
       "4                      Action|Crime|Thriller   \n",
       "\n",
       "                                production_companies release_date vote_count  \\\n",
       "0  Universal Studios|Amblin Entertainment|Legenda...       6/9/15       5562   \n",
       "1  Village Roadshow Pictures|Kennedy Miller Produ...      5/13/15       6185   \n",
       "2  Summit Entertainment|Mandeville Films|Red Wago...      3/18/15       2480   \n",
       "3          Lucasfilm|Truenorth Productions|Bad Robot     12/15/15       5292   \n",
       "4  Universal Pictures|Original Film|Media Rights ...       4/1/15       2947   \n",
       "\n",
       "   vote_average  release_year    budget_adj   revenue_adj  \n",
       "0           6.5          2015  1.379999e+08  1.392446e+09  \n",
       "1           7.1          2015  1.379999e+08  3.481613e+08  \n",
       "2           6.3          2015  1.012000e+08  2.716190e+08  \n",
       "3           7.5          2015  1.839999e+08  1.902723e+09  \n",
       "4           7.3          2015  1.747999e+08  1.385749e+09  \n",
       "\n",
       "[5 rows x 21 columns]"
      ]
     },
     "execution_count": 3,
     "metadata": {},
     "output_type": "execute_result"
    }
   ],
   "source": [
    "df.head()"
   ]
  },
  {
   "cell_type": "code",
   "execution_count": 4,
   "metadata": {},
   "outputs": [
    {
     "data": {
      "text/plain": [
       "(10866, 21)"
      ]
     },
     "execution_count": 4,
     "metadata": {},
     "output_type": "execute_result"
    }
   ],
   "source": [
    "df.shape # View the dataset Dimensions"
   ]
  },
  {
   "cell_type": "markdown",
   "metadata": {},
   "source": [
    "# Find missing and duplicate data"
   ]
  },
  {
   "cell_type": "code",
   "execution_count": 5,
   "metadata": {},
   "outputs": [
    {
     "name": "stdout",
     "output_type": "stream",
     "text": [
      "<class 'pandas.core.frame.DataFrame'>\n",
      "RangeIndex: 10866 entries, 0 to 10865\n",
      "Data columns (total 21 columns):\n",
      " #   Column                Non-Null Count  Dtype  \n",
      "---  ------                --------------  -----  \n",
      " 0   id                    10866 non-null  int64  \n",
      " 1   imdb_id               10856 non-null  object \n",
      " 2   popularity            10866 non-null  float64\n",
      " 3   budget                10866 non-null  int64  \n",
      " 4   revenue               10866 non-null  int64  \n",
      " 5   original_title        10866 non-null  object \n",
      " 6   cast                  10790 non-null  object \n",
      " 7   homepage              2936 non-null   object \n",
      " 8   director              10822 non-null  object \n",
      " 9   tagline               8042 non-null   object \n",
      " 10  keywords              9373 non-null   object \n",
      " 11  overview              10862 non-null  object \n",
      " 12  runtime               10866 non-null  int64  \n",
      " 13  genres                10843 non-null  object \n",
      " 14  production_companies  9836 non-null   object \n",
      " 15  release_date          10866 non-null  object \n",
      " 16  vote_count            10866 non-null  int64  \n",
      " 17  vote_average          10866 non-null  float64\n",
      " 18  release_year          10866 non-null  int64  \n",
      " 19  budget_adj            10866 non-null  float64\n",
      " 20  revenue_adj           10866 non-null  float64\n",
      "dtypes: float64(4), int64(6), object(11)\n",
      "memory usage: 1.7+ MB\n"
     ]
    }
   ],
   "source": [
    "# Find Missing data in the dataset\n",
    "df.info()"
   ]
  },
  {
   "cell_type": "code",
   "execution_count": 6,
   "metadata": {},
   "outputs": [
    {
     "name": "stdout",
     "output_type": "stream",
     "text": [
      "Number of duplicated data is 1\n"
     ]
    }
   ],
   "source": [
    "# Find duplicated data\n",
    "print('Number of duplicated data is', str(len(df[df.duplicated() == True])))"
   ]
  },
  {
   "cell_type": "markdown",
   "metadata": {},
   "source": [
    "\n",
    "## Data Cleaning: \n",
    "\n",
    "### (1)\n",
    "### Remove duplicated data"
   ]
  },
  {
   "cell_type": "markdown",
   "metadata": {},
   "source": [
    "#### I found some of the data are missing and also the dataset has 1 duplicated data. So, I'm going to clean these."
   ]
  },
  {
   "cell_type": "code",
   "execution_count": 7,
   "metadata": {},
   "outputs": [
    {
     "name": "stdout",
     "output_type": "stream",
     "text": [
      "Number of duplicated data is 0\n"
     ]
    }
   ],
   "source": [
    "df.drop_duplicates(inplace= True)\n",
    "\n",
    "# Check if the duplicated row is dropped\n",
    "print('Number of duplicated data is', str(len(df[df.duplicated() == True])))"
   ]
  },
  {
   "cell_type": "markdown",
   "metadata": {},
   "source": [
    "### (2)\n",
    "### Dealing with missing data\n",
    "\n",
    "Some columns have a lot of missing data and also they're not needed so, i'm simply going to drop those columns "
   ]
  },
  {
   "cell_type": "code",
   "execution_count": 8,
   "metadata": {},
   "outputs": [
    {
     "name": "stdout",
     "output_type": "stream",
     "text": [
      "<class 'pandas.core.frame.DataFrame'>\n",
      "Int64Index: 10865 entries, 0 to 10865\n",
      "Data columns (total 12 columns):\n",
      " #   Column          Non-Null Count  Dtype  \n",
      "---  ------          --------------  -----  \n",
      " 0   popularity      10865 non-null  float64\n",
      " 1   budget          10865 non-null  int64  \n",
      " 2   revenue         10865 non-null  int64  \n",
      " 3   original_title  10865 non-null  object \n",
      " 4   runtime         10865 non-null  int64  \n",
      " 5   genres          10842 non-null  object \n",
      " 6   release_date    10865 non-null  object \n",
      " 7   vote_count      10865 non-null  int64  \n",
      " 8   vote_average    10865 non-null  float64\n",
      " 9   release_year    10865 non-null  int64  \n",
      " 10  budget_adj      10865 non-null  float64\n",
      " 11  revenue_adj     10865 non-null  float64\n",
      "dtypes: float64(4), int64(5), object(3)\n",
      "memory usage: 1.1+ MB\n"
     ]
    }
   ],
   "source": [
    "\n",
    "df.drop(columns=['id', 'imdb_id', 'tagline', 'keywords', 'overview', 'homepage', 'cast' , 'director', 'production_companies'], inplace=True)\n",
    "df.info()"
   ]
  },
  {
   "cell_type": "markdown",
   "metadata": {},
   "source": [
    "#### genres has some null data I'll repalce them by not determined"
   ]
  },
  {
   "cell_type": "code",
   "execution_count": 9,
   "metadata": {},
   "outputs": [],
   "source": [
    "df['genres'].fillna('not determined', inplace=True)"
   ]
  },
  {
   "cell_type": "markdown",
   "metadata": {},
   "source": [
    "### (3)\n",
    "### Convert date from str to datetime"
   ]
  },
  {
   "cell_type": "code",
   "execution_count": 10,
   "metadata": {},
   "outputs": [],
   "source": [
    "\n",
    "# release_year \n",
    "# release_date\n",
    "df['release_date'] = pd.to_datetime(df['release_date'])"
   ]
  },
  {
   "cell_type": "code",
   "execution_count": 11,
   "metadata": {},
   "outputs": [
    {
     "name": "stdout",
     "output_type": "stream",
     "text": [
      "<class 'pandas.core.frame.DataFrame'>\n",
      "Int64Index: 10865 entries, 0 to 10865\n",
      "Data columns (total 12 columns):\n",
      " #   Column          Non-Null Count  Dtype         \n",
      "---  ------          --------------  -----         \n",
      " 0   popularity      10865 non-null  float64       \n",
      " 1   budget          10865 non-null  int64         \n",
      " 2   revenue         10865 non-null  int64         \n",
      " 3   original_title  10865 non-null  object        \n",
      " 4   runtime         10865 non-null  int64         \n",
      " 5   genres          10865 non-null  object        \n",
      " 6   release_date    10865 non-null  datetime64[ns]\n",
      " 7   vote_count      10865 non-null  int64         \n",
      " 8   vote_average    10865 non-null  float64       \n",
      " 9   release_year    10865 non-null  int64         \n",
      " 10  budget_adj      10865 non-null  float64       \n",
      " 11  revenue_adj     10865 non-null  float64       \n",
      "dtypes: datetime64[ns](1), float64(4), int64(5), object(2)\n",
      "memory usage: 1.1+ MB\n"
     ]
    }
   ],
   "source": [
    "df.info()"
   ]
  },
  {
   "cell_type": "markdown",
   "metadata": {},
   "source": [
    "### Now, the dataset is clean and ready for the exploration and analysis phase.   (:"
   ]
  },
  {
   "cell_type": "markdown",
   "metadata": {},
   "source": [
    "> ##############\n",
    "> ##############"
   ]
  },
  {
   "cell_type": "markdown",
   "metadata": {},
   "source": [
    "<a id='eda'></a>\n",
    "## Exploratory Data Analysis"
   ]
  },
  {
   "cell_type": "markdown",
   "metadata": {},
   "source": [
    "### Quick investigations about the relationships between the features"
   ]
  },
  {
   "cell_type": "code",
   "execution_count": 12,
   "metadata": {},
   "outputs": [
    {
     "data": {
      "text/plain": [
       "<AxesSubplot:>"
      ]
     },
     "execution_count": 12,
     "metadata": {},
     "output_type": "execute_result"
    },
    {
     "data": {
      "image/png": "[encoded data removed]",
      "text/plain": [
       "<Figure size 720x432 with 2 Axes>"
      ]
     },
     "metadata": {
      "needs_background": "light"
     },
     "output_type": "display_data"
    }
   ],
   "source": [
    "# Find correlations between the features.\n",
    "import seaborn as sns\n",
    "df.corr()\n",
    "plt.figure(figsize=(10,6))\n",
    "sns.heatmap(df.corr(), annot=True)"
   ]
  },
  {
   "cell_type": "markdown",
   "metadata": {},
   "source": [
    "### let's see the realtionship between relase_year and the budget"
   ]
  },
  {
   "cell_type": "code",
   "execution_count": 13,
   "metadata": {},
   "outputs": [
    {
     "data": {
      "image/png": "[encoded data removed]",
      "text/plain": [
       "<Figure size 720x432 with 1 Axes>"
      ]
     },
     "metadata": {
      "needs_background": "light"
     },
     "output_type": "display_data"
    }
   ],
   "source": [
    "plt.figure(figsize=(10,6))\n",
    "plt.scatter(df['release_year'], df['budget'])\n",
    "plt.title(\"Movie's budget over the years\")\n",
    "plt.xlabel('release_year')\n",
    "plt.ylabel('budget')\n",
    "plt.show()"
   ]
  },
  {
   "cell_type": "markdown",
   "metadata": {},
   "source": [
    "Here is a scatter plot show the relationship between budget and release year and as we can see the budget increases over the years"
   ]
  },
  {
   "cell_type": "code",
   "execution_count": 14,
   "metadata": {},
   "outputs": [
    {
     "data": {
      "text/html": [
       "<div>\n",
       "<style scoped>\n",
       "    .dataframe tbody tr th:only-of-type {\n",
       "        vertical-align: middle;\n",
       "    }\n",
       "\n",
       "    .dataframe tbody tr th {\n",
       "        vertical-align: top;\n",
       "    }\n",
       "\n",
       "    .dataframe thead th {\n",
       "        text-align: right;\n",
       "    }\n",
       "</style>\n",
       "<table border=\"1\" class=\"dataframe\">\n",
       "  <thead>\n",
       "    <tr style=\"text-align: right;\">\n",
       "      <th></th>\n",
       "      <th>budget</th>\n",
       "      <th>budget_adj</th>\n",
       "    </tr>\n",
       "  </thead>\n",
       "  <tbody>\n",
       "    <tr>\n",
       "      <th>0</th>\n",
       "      <td>150000000</td>\n",
       "      <td>1.379999e+08</td>\n",
       "    </tr>\n",
       "    <tr>\n",
       "      <th>1</th>\n",
       "      <td>150000000</td>\n",
       "      <td>1.379999e+08</td>\n",
       "    </tr>\n",
       "    <tr>\n",
       "      <th>2</th>\n",
       "      <td>110000000</td>\n",
       "      <td>1.012000e+08</td>\n",
       "    </tr>\n",
       "    <tr>\n",
       "      <th>3</th>\n",
       "      <td>200000000</td>\n",
       "      <td>1.839999e+08</td>\n",
       "    </tr>\n",
       "    <tr>\n",
       "      <th>4</th>\n",
       "      <td>190000000</td>\n",
       "      <td>1.747999e+08</td>\n",
       "    </tr>\n",
       "  </tbody>\n",
       "</table>\n",
       "</div>"
      ],
      "text/plain": [
       "      budget    budget_adj\n",
       "0  150000000  1.379999e+08\n",
       "1  150000000  1.379999e+08\n",
       "2  110000000  1.012000e+08\n",
       "3  200000000  1.839999e+08\n",
       "4  190000000  1.747999e+08"
      ]
     },
     "execution_count": 14,
     "metadata": {},
     "output_type": "execute_result"
    }
   ],
   "source": [
    "df[['budget', 'budget_adj']].head() # check the diffrenece between budget and budget_adj"
   ]
  },
  {
   "cell_type": "markdown",
   "metadata": {},
   "source": [
    "##### Quick statistic check for the budget column"
   ]
  },
  {
   "cell_type": "code",
   "execution_count": 15,
   "metadata": {},
   "outputs": [
    {
     "data": {
      "text/plain": [
       "count    1.086500e+04\n",
       "mean     1.462429e+07\n",
       "std      3.091428e+07\n",
       "min      0.000000e+00\n",
       "25%      0.000000e+00\n",
       "50%      0.000000e+00\n",
       "75%      1.500000e+07\n",
       "max      4.250000e+08\n",
       "Name: budget, dtype: float64"
      ]
     },
     "execution_count": 15,
     "metadata": {},
     "output_type": "execute_result"
    }
   ],
   "source": [
    "df['budget'].describe() "
   ]
  },
  {
   "cell_type": "markdown",
   "metadata": {},
   "source": [
    "> It seems there is a problem"
   ]
  },
  {
   "cell_type": "markdown",
   "metadata": {},
   "source": [
    "#### check the budget unique values"
   ]
  },
  {
   "cell_type": "code",
   "execution_count": 16,
   "metadata": {},
   "outputs": [
    {
     "data": {
      "text/plain": [
       "array([150000000, 110000000, 200000000, 190000000, 135000000, 155000000,\n",
       "       108000000,  74000000, 175000000, 245000000, 176000003,  15000000,\n",
       "        88000000, 280000000,  44000000,  48000000, 130000000,  95000000,\n",
       "       160000000,  30000000,  40000000,  28000000,  68000000,  81000000,\n",
       "        20000000,  61000000,         0,  49000000,  29000000,  58000000,\n",
       "         6000000,  50000000,  11000000,  90000000,  75000000,  25000000,\n",
       "        10000000,  12000000,   4000000,  11800000,  35000000,  55000000,\n",
       "        60000000, 105000000,  26000000,  70000000, 120000001,   3500000,\n",
       "        65000000,  50100000, 100000000,  13000000,  99000000,   2500000,\n",
       "        34000000,  80000000,  17000000,  31000000,   5000000,  64000000,\n",
       "        11930000,   8500000,  23000000,  53000000,   8900000,    700000,\n",
       "        14800000,  19500000,   1000000,   8000000,   1800000,   2000000,\n",
       "        18000000,    630019,  14000000,  37000000,   7000000,   3000000,\n",
       "         9600000,   2240000,   3300000,    100000,  21000000,   5300000,\n",
       "         9000000,    447524,   1950000,   4400000,  27000000,    500000,\n",
       "          600000,   7500000,   1500000,    650000,   9500000,   3400000,\n",
       "         1300000,   1900000,  13500000,        10, 165000000, 170000000,\n",
       "       125000000, 250000000, 127000000,  85000000, 210000000,  42000000,\n",
       "       178000000,  58800000, 140000000, 180000000, 145000000, 132000000,\n",
       "        16000000,  45000000,   5500000,  12600000, 120000000, 103000000,\n",
       "         4900000,  66000000,  22000000,  13200000,  24000000,  12250000,\n",
       "         6500000,  22500000,  19800000,  12500000,   6700000,  13300000,\n",
       "          200000,   6600000,  36000000,   2800000,   2400000,   3150000,\n",
       "         2700000,   1200000,    318000,  12700000,    325927,    156660,\n",
       "          950000,        18,   6900000,         1,   5900000,    150000,\n",
       "         1400000,       117,    750000,   3250000,         5,   2489400,\n",
       "          900000,     10000,    810000,    230000,    530000, 237000000,\n",
       "        23600000,  38000000,  33000000,  18500000,  47000000,  32000000,\n",
       "         4500000,  14700000,  41000000,  39000000,  87000000,   4300000,\n",
       "          800000,  78146652,   5100000,   6300000,  19000000,   7300000,\n",
       "         3700000,   6400000,   5060730,   2900000,    425000,   2011799,\n",
       "              75,   1700000,      5000,   3200000,       108,    250000,\n",
       "           31192,      3500,  69000000, 260000000, 117000000, 112000000,\n",
       "        52000000,  21800000,   1987650,   5773100,   5800000,   4466000,\n",
       "         3100000,    550000, 104002432,   4600000,     30000,     65000,\n",
       "       425000000,    967686,   7347125,   2300000,   7200000,   3167000,\n",
       "          300000,   1100000,   1250000,         3,  63000000, 115000000,\n",
       "        10500000, 133000000,  73000000,     25000,  34200000,  51000000,\n",
       "              80,  82000000,  21500000,        25,   4250000,    450000,\n",
       "         3800000,   9210000,  93000000,  98000000,  52500000,  92000000,\n",
       "       102000000, 137000000,  72000000,  57000000,  21150000, 107000000,\n",
       "        17700000,  62000000,   2079000,  94000000,   4800000,    165000,\n",
       "       185000000, 225000000,  20500000,  10800000,  11500000,         8,\n",
       "         6100000,  14100000,   8376800,  15400000,   4700000,  25100000,\n",
       "         5750000,   9100000,     20000,   3600000,    515788,   4180000,\n",
       "          170000, 380000000,  32500000, 163000000,  50200000,  79000000,\n",
       "        56000000,  49900000,  14350531,  12468389,  15774948, 195000000,\n",
       "         7700000,   4798235,   4317946,    350000,        93,    125000,\n",
       "        10831173,    135000,    930000,  19100000,   8400000,   1150000,\n",
       "         6965576,    134005,     70000,   8978040,      8000,   4200000,\n",
       "           17000,     45202,   1340000,        97,   6800000,        20,\n",
       "         2902660,     61733,  59000000, 139000000,  54000000,   3500159,\n",
       "        46000000,  84000000,        68,        28,  43000000,  78000000,\n",
       "        15600000,     40000,     27000,  17080000,    400000,   7400000,\n",
       "        10300000,        32, 220000000, 215000000,  44500000, 209000000,\n",
       "         3730500,  26350000,  16600000,   5600000,    850000,  18200000,\n",
       "         4275000,        17,   5990000,   2840000,     10400,   8510000,\n",
       "             110,  76000000,  27440000,  16500000,   7800000,    780000,\n",
       "         8256269,   4361898,    569217,       300,  16700000, 116000000,\n",
       "          786675, 255000000,   1030064,  10900000,    125687,  27220000,\n",
       "        25500000,   8200000,  17500000,   6218100,   5200000,   1104000,\n",
       "        83000000,        15,    567000,    725000,     50000,   1052753,\n",
       "          996519,        89,   5112027,   7720000,    232000,       750,\n",
       "             650,       500,    348164,  12305523,  17900000,   2200000,\n",
       "          945000,       114,    860000,   2410000, 113000000, 126000000,\n",
       "       207000000,    169000,    475000,  14200000,    818418,   1549000,\n",
       "         4750000,  10284523,     16398,     72000,   1600000, 270000000,\n",
       "        82500000, 149000000,  15500000,  72500000,  37665000,  16800000,\n",
       "        19400000,    994000,   9364800,   2380000,  14500000,   8300000,\n",
       "            2500,     79000,      7000,    130000,  24665810,    825000,\n",
       "         5400000,  74500000,     74050,  19250000,        14,   2600000,\n",
       "              90,    823258,   8800000,     12000,     90000,   3352254,\n",
       "           75000, 300000000, 258000000,    160000,  86000000,     15000,\n",
       "        51500000,  67000000,  10200000,  60795000,  27500000,    230400,\n",
       "             700,        12,    120000,    441892,      6000,  31500000,\n",
       "          239000,    420000,   1355000,  14400000,  25300000,   1746964,\n",
       "         8600000,   2550000,   1065000,  32350000,  40600000,   6200000,\n",
       "        10100000,        27,   5952000,    980385,  29500000,  30250000,\n",
       "         8169363,         6,  13365000,    220000,  11700000,   3705538,\n",
       "         4439832,   9300000,   1750000,   4100000,    145786,     62000,\n",
       "         2962051,  25530000, 123000000, 127500000,  12800000,  41300000,\n",
       "        63600000,  10700000,     60000,         2,     35000,  71000000,\n",
       "         1350000,  16400000,  18598420,  13800000,    787000,    645180,\n",
       "         8045760,     33000,  12300000,     23000,  22700000,     25710,\n",
       "         1880006,        95,    114000,    275000,     85000,    179000,\n",
       "          980000,   2650000,       126,   2135161,    783000,    777000,\n",
       "         1645000,        30,  37931000,    225000,  22997992,   2068041,\n",
       "         5037000,    806948,    270000,  14600000,        21,  19885552,\n",
       "           68000,    947000,    640000,       200,  31115000,   9400000,\n",
       "           66500,       113,  24500000,    111000,     22500,   4638783,\n",
       "        25485000,   3716946,     45000,   5760000,       115,    360000,\n",
       "         6244087,    175000,   7920000,        11,    660000,   6727000,\n",
       "          315000,   1377800,   4653000,   5115000,     19000], dtype=int64)"
      ]
     },
     "execution_count": 16,
     "metadata": {},
     "output_type": "execute_result"
    }
   ],
   "source": [
    "df['budget'].unique() "
   ]
  },
  {
   "cell_type": "markdown",
   "metadata": {},
   "source": [
    "I try to find the mean to split the data to greater or equal than the and less than the mean, but we have a problem here, the zeros causes problem in calculting the mean and the median. Filling them by the mean won't be a good idea as i think. Instead I'm going to drop those zeros and store the result in other new dataset."
   ]
  },
  {
   "cell_type": "markdown",
   "metadata": {},
   "source": [
    "#### Any movie with budget less than 5000 will be dropped"
   ]
  },
  {
   "cell_type": "code",
   "execution_count": 17,
   "metadata": {},
   "outputs": [
    {
     "data": {
      "text/html": [
       "<div>\n",
       "<style scoped>\n",
       "    .dataframe tbody tr th:only-of-type {\n",
       "        vertical-align: middle;\n",
       "    }\n",
       "\n",
       "    .dataframe tbody tr th {\n",
       "        vertical-align: top;\n",
       "    }\n",
       "\n",
       "    .dataframe thead th {\n",
       "        text-align: right;\n",
       "    }\n",
       "</style>\n",
       "<table border=\"1\" class=\"dataframe\">\n",
       "  <thead>\n",
       "    <tr style=\"text-align: right;\">\n",
       "      <th></th>\n",
       "      <th>popularity</th>\n",
       "      <th>budget</th>\n",
       "      <th>revenue</th>\n",
       "      <th>original_title</th>\n",
       "      <th>runtime</th>\n",
       "      <th>genres</th>\n",
       "      <th>release_date</th>\n",
       "      <th>vote_count</th>\n",
       "      <th>vote_average</th>\n",
       "      <th>release_year</th>\n",
       "      <th>budget_adj</th>\n",
       "      <th>revenue_adj</th>\n",
       "    </tr>\n",
       "  </thead>\n",
       "  <tbody>\n",
       "    <tr>\n",
       "      <th>0</th>\n",
       "      <td>32.985763</td>\n",
       "      <td>150000000</td>\n",
       "      <td>1513528810</td>\n",
       "      <td>Jurassic World</td>\n",
       "      <td>124</td>\n",
       "      <td>Action|Adventure|Science Fiction|Thriller</td>\n",
       "      <td>2015-06-09</td>\n",
       "      <td>5562</td>\n",
       "      <td>6.5</td>\n",
       "      <td>2015</td>\n",
       "      <td>1.379999e+08</td>\n",
       "      <td>1.392446e+09</td>\n",
       "    </tr>\n",
       "    <tr>\n",
       "      <th>1</th>\n",
       "      <td>28.419936</td>\n",
       "      <td>150000000</td>\n",
       "      <td>378436354</td>\n",
       "      <td>Mad Max: Fury Road</td>\n",
       "      <td>120</td>\n",
       "      <td>Action|Adventure|Science Fiction|Thriller</td>\n",
       "      <td>2015-05-13</td>\n",
       "      <td>6185</td>\n",
       "      <td>7.1</td>\n",
       "      <td>2015</td>\n",
       "      <td>1.379999e+08</td>\n",
       "      <td>3.481613e+08</td>\n",
       "    </tr>\n",
       "    <tr>\n",
       "      <th>2</th>\n",
       "      <td>13.112507</td>\n",
       "      <td>110000000</td>\n",
       "      <td>295238201</td>\n",
       "      <td>Insurgent</td>\n",
       "      <td>119</td>\n",
       "      <td>Adventure|Science Fiction|Thriller</td>\n",
       "      <td>2015-03-18</td>\n",
       "      <td>2480</td>\n",
       "      <td>6.3</td>\n",
       "      <td>2015</td>\n",
       "      <td>1.012000e+08</td>\n",
       "      <td>2.716190e+08</td>\n",
       "    </tr>\n",
       "    <tr>\n",
       "      <th>3</th>\n",
       "      <td>11.173104</td>\n",
       "      <td>200000000</td>\n",
       "      <td>2068178225</td>\n",
       "      <td>Star Wars: The Force Awakens</td>\n",
       "      <td>136</td>\n",
       "      <td>Action|Adventure|Science Fiction|Fantasy</td>\n",
       "      <td>2015-12-15</td>\n",
       "      <td>5292</td>\n",
       "      <td>7.5</td>\n",
       "      <td>2015</td>\n",
       "      <td>1.839999e+08</td>\n",
       "      <td>1.902723e+09</td>\n",
       "    </tr>\n",
       "    <tr>\n",
       "      <th>4</th>\n",
       "      <td>9.335014</td>\n",
       "      <td>190000000</td>\n",
       "      <td>1506249360</td>\n",
       "      <td>Furious 7</td>\n",
       "      <td>137</td>\n",
       "      <td>Action|Crime|Thriller</td>\n",
       "      <td>2015-04-01</td>\n",
       "      <td>2947</td>\n",
       "      <td>7.3</td>\n",
       "      <td>2015</td>\n",
       "      <td>1.747999e+08</td>\n",
       "      <td>1.385749e+09</td>\n",
       "    </tr>\n",
       "    <tr>\n",
       "      <th>...</th>\n",
       "      <td>...</td>\n",
       "      <td>...</td>\n",
       "      <td>...</td>\n",
       "      <td>...</td>\n",
       "      <td>...</td>\n",
       "      <td>...</td>\n",
       "      <td>...</td>\n",
       "      <td>...</td>\n",
       "      <td>...</td>\n",
       "      <td>...</td>\n",
       "      <td>...</td>\n",
       "      <td>...</td>\n",
       "    </tr>\n",
       "    <tr>\n",
       "      <th>10835</th>\n",
       "      <td>0.299911</td>\n",
       "      <td>12000000</td>\n",
       "      <td>20000000</td>\n",
       "      <td>The Sand Pebbles</td>\n",
       "      <td>182</td>\n",
       "      <td>Action|Adventure|Drama|War|Romance</td>\n",
       "      <td>2066-12-20</td>\n",
       "      <td>28</td>\n",
       "      <td>7.0</td>\n",
       "      <td>1966</td>\n",
       "      <td>8.061618e+07</td>\n",
       "      <td>1.343603e+08</td>\n",
       "    </tr>\n",
       "    <tr>\n",
       "      <th>10841</th>\n",
       "      <td>0.264925</td>\n",
       "      <td>75000</td>\n",
       "      <td>0</td>\n",
       "      <td>The Shooting</td>\n",
       "      <td>82</td>\n",
       "      <td>Western</td>\n",
       "      <td>2066-10-23</td>\n",
       "      <td>12</td>\n",
       "      <td>5.5</td>\n",
       "      <td>1966</td>\n",
       "      <td>5.038511e+05</td>\n",
       "      <td>0.000000e+00</td>\n",
       "    </tr>\n",
       "    <tr>\n",
       "      <th>10848</th>\n",
       "      <td>0.207257</td>\n",
       "      <td>5115000</td>\n",
       "      <td>12000000</td>\n",
       "      <td>Fantastic Voyage</td>\n",
       "      <td>100</td>\n",
       "      <td>Adventure|Science Fiction</td>\n",
       "      <td>2066-08-24</td>\n",
       "      <td>42</td>\n",
       "      <td>6.7</td>\n",
       "      <td>1966</td>\n",
       "      <td>3.436265e+07</td>\n",
       "      <td>8.061618e+07</td>\n",
       "    </tr>\n",
       "    <tr>\n",
       "      <th>10855</th>\n",
       "      <td>0.141026</td>\n",
       "      <td>700000</td>\n",
       "      <td>0</td>\n",
       "      <td>The Ghost &amp; Mr. Chicken</td>\n",
       "      <td>90</td>\n",
       "      <td>Comedy|Family|Mystery|Romance</td>\n",
       "      <td>2066-01-20</td>\n",
       "      <td>14</td>\n",
       "      <td>6.1</td>\n",
       "      <td>1966</td>\n",
       "      <td>4.702610e+06</td>\n",
       "      <td>0.000000e+00</td>\n",
       "    </tr>\n",
       "    <tr>\n",
       "      <th>10865</th>\n",
       "      <td>0.035919</td>\n",
       "      <td>19000</td>\n",
       "      <td>0</td>\n",
       "      <td>Manos: The Hands of Fate</td>\n",
       "      <td>74</td>\n",
       "      <td>Horror</td>\n",
       "      <td>2066-11-15</td>\n",
       "      <td>15</td>\n",
       "      <td>1.5</td>\n",
       "      <td>1966</td>\n",
       "      <td>1.276423e+05</td>\n",
       "      <td>0.000000e+00</td>\n",
       "    </tr>\n",
       "  </tbody>\n",
       "</table>\n",
       "<p>5108 rows × 12 columns</p>\n",
       "</div>"
      ],
      "text/plain": [
       "       popularity     budget     revenue                original_title  \\\n",
       "0       32.985763  150000000  1513528810                Jurassic World   \n",
       "1       28.419936  150000000   378436354            Mad Max: Fury Road   \n",
       "2       13.112507  110000000   295238201                     Insurgent   \n",
       "3       11.173104  200000000  2068178225  Star Wars: The Force Awakens   \n",
       "4        9.335014  190000000  1506249360                     Furious 7   \n",
       "...           ...        ...         ...                           ...   \n",
       "10835    0.299911   12000000    20000000              The Sand Pebbles   \n",
       "10841    0.264925      75000           0                  The Shooting   \n",
       "10848    0.207257    5115000    12000000              Fantastic Voyage   \n",
       "10855    0.141026     700000           0       The Ghost & Mr. Chicken   \n",
       "10865    0.035919      19000           0      Manos: The Hands of Fate   \n",
       "\n",
       "       runtime                                     genres release_date  \\\n",
       "0          124  Action|Adventure|Science Fiction|Thriller   2015-06-09   \n",
       "1          120  Action|Adventure|Science Fiction|Thriller   2015-05-13   \n",
       "2          119         Adventure|Science Fiction|Thriller   2015-03-18   \n",
       "3          136   Action|Adventure|Science Fiction|Fantasy   2015-12-15   \n",
       "4          137                      Action|Crime|Thriller   2015-04-01   \n",
       "...        ...                                        ...          ...   \n",
       "10835      182         Action|Adventure|Drama|War|Romance   2066-12-20   \n",
       "10841       82                                    Western   2066-10-23   \n",
       "10848      100                  Adventure|Science Fiction   2066-08-24   \n",
       "10855       90              Comedy|Family|Mystery|Romance   2066-01-20   \n",
       "10865       74                                     Horror   2066-11-15   \n",
       "\n",
       "       vote_count  vote_average  release_year    budget_adj   revenue_adj  \n",
       "0            5562           6.5          2015  1.379999e+08  1.392446e+09  \n",
       "1            6185           7.1          2015  1.379999e+08  3.481613e+08  \n",
       "2            2480           6.3          2015  1.012000e+08  2.716190e+08  \n",
       "3            5292           7.5          2015  1.839999e+08  1.902723e+09  \n",
       "4            2947           7.3          2015  1.747999e+08  1.385749e+09  \n",
       "...           ...           ...           ...           ...           ...  \n",
       "10835          28           7.0          1966  8.061618e+07  1.343603e+08  \n",
       "10841          12           5.5          1966  5.038511e+05  0.000000e+00  \n",
       "10848          42           6.7          1966  3.436265e+07  8.061618e+07  \n",
       "10855          14           6.1          1966  4.702610e+06  0.000000e+00  \n",
       "10865          15           1.5          1966  1.276423e+05  0.000000e+00  \n",
       "\n",
       "[5108 rows x 12 columns]"
      ]
     },
     "execution_count": 17,
     "metadata": {},
     "output_type": "execute_result"
    }
   ],
   "source": [
    "zeros_indx = df[df['budget'] < 5000].index\n",
    "df_no_zeros = df.drop(index= zeros_indx)\n",
    "df_no_zeros"
   ]
  },
  {
   "cell_type": "code",
   "execution_count": 18,
   "metadata": {},
   "outputs": [
    {
     "data": {
      "text/plain": [
       "5000"
      ]
     },
     "execution_count": 18,
     "metadata": {},
     "output_type": "execute_result"
    }
   ],
   "source": [
    "df_no_zeros['budget'].min()  # Check the minimum "
   ]
  },
  {
   "cell_type": "code",
   "execution_count": 19,
   "metadata": {
    "scrolled": true
   },
   "outputs": [
    {
     "data": {
      "text/plain": [
       "31106667.382341426"
      ]
     },
     "execution_count": 19,
     "metadata": {},
     "output_type": "execute_result"
    }
   ],
   "source": [
    "df_no_zeros['budget'].mean()"
   ]
  },
  {
   "cell_type": "markdown",
   "metadata": {},
   "source": [
    "### Split the data into 2 datasets ( greater than or equal and less than the mean)\n",
    "\n",
    ">The splitting will be based on the mean of the budget"
   ]
  },
  {
   "cell_type": "markdown",
   "metadata": {},
   "source": [
    "#### Greater than or equal dataset"
   ]
  },
  {
   "cell_type": "code",
   "execution_count": 20,
   "metadata": {},
   "outputs": [
    {
     "data": {
      "text/html": [
       "<div>\n",
       "<style scoped>\n",
       "    .dataframe tbody tr th:only-of-type {\n",
       "        vertical-align: middle;\n",
       "    }\n",
       "\n",
       "    .dataframe tbody tr th {\n",
       "        vertical-align: top;\n",
       "    }\n",
       "\n",
       "    .dataframe thead th {\n",
       "        text-align: right;\n",
       "    }\n",
       "</style>\n",
       "<table border=\"1\" class=\"dataframe\">\n",
       "  <thead>\n",
       "    <tr style=\"text-align: right;\">\n",
       "      <th></th>\n",
       "      <th>popularity</th>\n",
       "      <th>budget</th>\n",
       "      <th>revenue</th>\n",
       "      <th>original_title</th>\n",
       "      <th>runtime</th>\n",
       "      <th>genres</th>\n",
       "      <th>release_date</th>\n",
       "      <th>vote_count</th>\n",
       "      <th>vote_average</th>\n",
       "      <th>release_year</th>\n",
       "      <th>budget_adj</th>\n",
       "      <th>revenue_adj</th>\n",
       "    </tr>\n",
       "  </thead>\n",
       "  <tbody>\n",
       "    <tr>\n",
       "      <th>0</th>\n",
       "      <td>32.985763</td>\n",
       "      <td>150000000</td>\n",
       "      <td>1513528810</td>\n",
       "      <td>Jurassic World</td>\n",
       "      <td>124</td>\n",
       "      <td>Action|Adventure|Science Fiction|Thriller</td>\n",
       "      <td>2015-06-09</td>\n",
       "      <td>5562</td>\n",
       "      <td>6.5</td>\n",
       "      <td>2015</td>\n",
       "      <td>1.379999e+08</td>\n",
       "      <td>1.392446e+09</td>\n",
       "    </tr>\n",
       "    <tr>\n",
       "      <th>1</th>\n",
       "      <td>28.419936</td>\n",
       "      <td>150000000</td>\n",
       "      <td>378436354</td>\n",
       "      <td>Mad Max: Fury Road</td>\n",
       "      <td>120</td>\n",
       "      <td>Action|Adventure|Science Fiction|Thriller</td>\n",
       "      <td>2015-05-13</td>\n",
       "      <td>6185</td>\n",
       "      <td>7.1</td>\n",
       "      <td>2015</td>\n",
       "      <td>1.379999e+08</td>\n",
       "      <td>3.481613e+08</td>\n",
       "    </tr>\n",
       "    <tr>\n",
       "      <th>2</th>\n",
       "      <td>13.112507</td>\n",
       "      <td>110000000</td>\n",
       "      <td>295238201</td>\n",
       "      <td>Insurgent</td>\n",
       "      <td>119</td>\n",
       "      <td>Adventure|Science Fiction|Thriller</td>\n",
       "      <td>2015-03-18</td>\n",
       "      <td>2480</td>\n",
       "      <td>6.3</td>\n",
       "      <td>2015</td>\n",
       "      <td>1.012000e+08</td>\n",
       "      <td>2.716190e+08</td>\n",
       "    </tr>\n",
       "    <tr>\n",
       "      <th>3</th>\n",
       "      <td>11.173104</td>\n",
       "      <td>200000000</td>\n",
       "      <td>2068178225</td>\n",
       "      <td>Star Wars: The Force Awakens</td>\n",
       "      <td>136</td>\n",
       "      <td>Action|Adventure|Science Fiction|Fantasy</td>\n",
       "      <td>2015-12-15</td>\n",
       "      <td>5292</td>\n",
       "      <td>7.5</td>\n",
       "      <td>2015</td>\n",
       "      <td>1.839999e+08</td>\n",
       "      <td>1.902723e+09</td>\n",
       "    </tr>\n",
       "    <tr>\n",
       "      <th>4</th>\n",
       "      <td>9.335014</td>\n",
       "      <td>190000000</td>\n",
       "      <td>1506249360</td>\n",
       "      <td>Furious 7</td>\n",
       "      <td>137</td>\n",
       "      <td>Action|Crime|Thriller</td>\n",
       "      <td>2015-04-01</td>\n",
       "      <td>2947</td>\n",
       "      <td>7.3</td>\n",
       "      <td>2015</td>\n",
       "      <td>1.747999e+08</td>\n",
       "      <td>1.385749e+09</td>\n",
       "    </tr>\n",
       "    <tr>\n",
       "      <th>...</th>\n",
       "      <td>...</td>\n",
       "      <td>...</td>\n",
       "      <td>...</td>\n",
       "      <td>...</td>\n",
       "      <td>...</td>\n",
       "      <td>...</td>\n",
       "      <td>...</td>\n",
       "      <td>...</td>\n",
       "      <td>...</td>\n",
       "      <td>...</td>\n",
       "      <td>...</td>\n",
       "      <td>...</td>\n",
       "    </tr>\n",
       "    <tr>\n",
       "      <th>10335</th>\n",
       "      <td>0.321865</td>\n",
       "      <td>35000000</td>\n",
       "      <td>4858139</td>\n",
       "      <td>Little Buddha</td>\n",
       "      <td>140</td>\n",
       "      <td>Drama|History</td>\n",
       "      <td>1993-12-01</td>\n",
       "      <td>33</td>\n",
       "      <td>5.8</td>\n",
       "      <td>1993</td>\n",
       "      <td>5.283145e+07</td>\n",
       "      <td>7.333215e+06</td>\n",
       "    </tr>\n",
       "    <tr>\n",
       "      <th>10443</th>\n",
       "      <td>0.804533</td>\n",
       "      <td>31115000</td>\n",
       "      <td>57750000</td>\n",
       "      <td>Cleopatra</td>\n",
       "      <td>248</td>\n",
       "      <td>Drama|History|Romance</td>\n",
       "      <td>2063-06-12</td>\n",
       "      <td>68</td>\n",
       "      <td>6.3</td>\n",
       "      <td>1963</td>\n",
       "      <td>2.215444e+08</td>\n",
       "      <td>4.111904e+08</td>\n",
       "    </tr>\n",
       "    <tr>\n",
       "      <th>10483</th>\n",
       "      <td>1.045604</td>\n",
       "      <td>40000000</td>\n",
       "      <td>1641825</td>\n",
       "      <td>Pirates</td>\n",
       "      <td>124</td>\n",
       "      <td>Adventure|Comedy</td>\n",
       "      <td>1986-05-08</td>\n",
       "      <td>22</td>\n",
       "      <td>6.2</td>\n",
       "      <td>1986</td>\n",
       "      <td>7.957626e+07</td>\n",
       "      <td>3.266257e+06</td>\n",
       "    </tr>\n",
       "    <tr>\n",
       "      <th>10488</th>\n",
       "      <td>0.969383</td>\n",
       "      <td>37000000</td>\n",
       "      <td>37962774</td>\n",
       "      <td>Howard the Duck</td>\n",
       "      <td>110</td>\n",
       "      <td>Fantasy|Comedy|Science Fiction</td>\n",
       "      <td>1986-08-01</td>\n",
       "      <td>105</td>\n",
       "      <td>4.9</td>\n",
       "      <td>1986</td>\n",
       "      <td>7.360804e+07</td>\n",
       "      <td>7.552339e+07</td>\n",
       "    </tr>\n",
       "    <tr>\n",
       "      <th>10758</th>\n",
       "      <td>1.210324</td>\n",
       "      <td>55000000</td>\n",
       "      <td>300218018</td>\n",
       "      <td>Superman</td>\n",
       "      <td>143</td>\n",
       "      <td>Adventure|Fantasy|Action|Science Fiction</td>\n",
       "      <td>1978-12-14</td>\n",
       "      <td>518</td>\n",
       "      <td>6.7</td>\n",
       "      <td>1978</td>\n",
       "      <td>1.838485e+08</td>\n",
       "      <td>1.003539e+09</td>\n",
       "    </tr>\n",
       "  </tbody>\n",
       "</table>\n",
       "<p>1596 rows × 12 columns</p>\n",
       "</div>"
      ],
      "text/plain": [
       "       popularity     budget     revenue                original_title  \\\n",
       "0       32.985763  150000000  1513528810                Jurassic World   \n",
       "1       28.419936  150000000   378436354            Mad Max: Fury Road   \n",
       "2       13.112507  110000000   295238201                     Insurgent   \n",
       "3       11.173104  200000000  2068178225  Star Wars: The Force Awakens   \n",
       "4        9.335014  190000000  1506249360                     Furious 7   \n",
       "...           ...        ...         ...                           ...   \n",
       "10335    0.321865   35000000     4858139                 Little Buddha   \n",
       "10443    0.804533   31115000    57750000                     Cleopatra   \n",
       "10483    1.045604   40000000     1641825                       Pirates   \n",
       "10488    0.969383   37000000    37962774               Howard the Duck   \n",
       "10758    1.210324   55000000   300218018                      Superman   \n",
       "\n",
       "       runtime                                     genres release_date  \\\n",
       "0          124  Action|Adventure|Science Fiction|Thriller   2015-06-09   \n",
       "1          120  Action|Adventure|Science Fiction|Thriller   2015-05-13   \n",
       "2          119         Adventure|Science Fiction|Thriller   2015-03-18   \n",
       "3          136   Action|Adventure|Science Fiction|Fantasy   2015-12-15   \n",
       "4          137                      Action|Crime|Thriller   2015-04-01   \n",
       "...        ...                                        ...          ...   \n",
       "10335      140                              Drama|History   1993-12-01   \n",
       "10443      248                      Drama|History|Romance   2063-06-12   \n",
       "10483      124                           Adventure|Comedy   1986-05-08   \n",
       "10488      110             Fantasy|Comedy|Science Fiction   1986-08-01   \n",
       "10758      143   Adventure|Fantasy|Action|Science Fiction   1978-12-14   \n",
       "\n",
       "       vote_count  vote_average  release_year    budget_adj   revenue_adj  \n",
       "0            5562           6.5          2015  1.379999e+08  1.392446e+09  \n",
       "1            6185           7.1          2015  1.379999e+08  3.481613e+08  \n",
       "2            2480           6.3          2015  1.012000e+08  2.716190e+08  \n",
       "3            5292           7.5          2015  1.839999e+08  1.902723e+09  \n",
       "4            2947           7.3          2015  1.747999e+08  1.385749e+09  \n",
       "...           ...           ...           ...           ...           ...  \n",
       "10335          33           5.8          1993  5.283145e+07  7.333215e+06  \n",
       "10443          68           6.3          1963  2.215444e+08  4.111904e+08  \n",
       "10483          22           6.2          1986  7.957626e+07  3.266257e+06  \n",
       "10488         105           4.9          1986  7.360804e+07  7.552339e+07  \n",
       "10758         518           6.7          1978  1.838485e+08  1.003539e+09  \n",
       "\n",
       "[1596 rows x 12 columns]"
      ]
     },
     "execution_count": 20,
     "metadata": {},
     "output_type": "execute_result"
    }
   ],
   "source": [
    "df_gt = df_no_zeros.query('budget >= 31106667')  # Greater than or equal\n",
    "df_gt"
   ]
  },
  {
   "cell_type": "markdown",
   "metadata": {},
   "source": [
    "#### below the mean of the budget  dataset"
   ]
  },
  {
   "cell_type": "code",
   "execution_count": 21,
   "metadata": {},
   "outputs": [
    {
     "data": {
      "text/html": [
       "<div>\n",
       "<style scoped>\n",
       "    .dataframe tbody tr th:only-of-type {\n",
       "        vertical-align: middle;\n",
       "    }\n",
       "\n",
       "    .dataframe tbody tr th {\n",
       "        vertical-align: top;\n",
       "    }\n",
       "\n",
       "    .dataframe thead th {\n",
       "        text-align: right;\n",
       "    }\n",
       "</style>\n",
       "<table border=\"1\" class=\"dataframe\">\n",
       "  <thead>\n",
       "    <tr style=\"text-align: right;\">\n",
       "      <th></th>\n",
       "      <th>popularity</th>\n",
       "      <th>budget</th>\n",
       "      <th>revenue</th>\n",
       "      <th>original_title</th>\n",
       "      <th>runtime</th>\n",
       "      <th>genres</th>\n",
       "      <th>release_date</th>\n",
       "      <th>vote_count</th>\n",
       "      <th>vote_average</th>\n",
       "      <th>release_year</th>\n",
       "      <th>budget_adj</th>\n",
       "      <th>revenue_adj</th>\n",
       "    </tr>\n",
       "  </thead>\n",
       "  <tbody>\n",
       "    <tr>\n",
       "      <th>35</th>\n",
       "      <td>3.557846</td>\n",
       "      <td>6000000</td>\n",
       "      <td>35401758</td>\n",
       "      <td>Room</td>\n",
       "      <td>117</td>\n",
       "      <td>Drama|Thriller</td>\n",
       "      <td>2015-10-16</td>\n",
       "      <td>1520</td>\n",
       "      <td>8.0</td>\n",
       "      <td>2015</td>\n",
       "      <td>5.519998e+06</td>\n",
       "      <td>3.256960e+07</td>\n",
       "    </tr>\n",
       "    <tr>\n",
       "      <th>39</th>\n",
       "      <td>3.227329</td>\n",
       "      <td>11000000</td>\n",
       "      <td>62076141</td>\n",
       "      <td>Brooklyn</td>\n",
       "      <td>111</td>\n",
       "      <td>Drama|Romance</td>\n",
       "      <td>2015-11-04</td>\n",
       "      <td>754</td>\n",
       "      <td>7.3</td>\n",
       "      <td>2015</td>\n",
       "      <td>1.012000e+07</td>\n",
       "      <td>5.711002e+07</td>\n",
       "    </tr>\n",
       "    <tr>\n",
       "      <th>45</th>\n",
       "      <td>3.023253</td>\n",
       "      <td>10000000</td>\n",
       "      <td>14333790</td>\n",
       "      <td>Hardcore Henry</td>\n",
       "      <td>97</td>\n",
       "      <td>Action|Adventure|Science Fiction</td>\n",
       "      <td>2015-09-12</td>\n",
       "      <td>396</td>\n",
       "      <td>5.9</td>\n",
       "      <td>2015</td>\n",
       "      <td>9.199996e+06</td>\n",
       "      <td>1.318708e+07</td>\n",
       "    </tr>\n",
       "    <tr>\n",
       "      <th>47</th>\n",
       "      <td>2.968254</td>\n",
       "      <td>12000000</td>\n",
       "      <td>85512300</td>\n",
       "      <td>Paper Towns</td>\n",
       "      <td>109</td>\n",
       "      <td>Drama|Mystery|Romance</td>\n",
       "      <td>2015-07-09</td>\n",
       "      <td>1252</td>\n",
       "      <td>6.2</td>\n",
       "      <td>2015</td>\n",
       "      <td>1.104000e+07</td>\n",
       "      <td>7.867128e+07</td>\n",
       "    </tr>\n",
       "    <tr>\n",
       "      <th>49</th>\n",
       "      <td>2.885126</td>\n",
       "      <td>4000000</td>\n",
       "      <td>9064511</td>\n",
       "      <td>The Lobster</td>\n",
       "      <td>118</td>\n",
       "      <td>Thriller|Comedy|Drama|Romance|Science Fiction</td>\n",
       "      <td>2015-10-08</td>\n",
       "      <td>638</td>\n",
       "      <td>6.6</td>\n",
       "      <td>2015</td>\n",
       "      <td>3.679998e+06</td>\n",
       "      <td>8.339346e+06</td>\n",
       "    </tr>\n",
       "    <tr>\n",
       "      <th>...</th>\n",
       "      <td>...</td>\n",
       "      <td>...</td>\n",
       "      <td>...</td>\n",
       "      <td>...</td>\n",
       "      <td>...</td>\n",
       "      <td>...</td>\n",
       "      <td>...</td>\n",
       "      <td>...</td>\n",
       "      <td>...</td>\n",
       "      <td>...</td>\n",
       "      <td>...</td>\n",
       "      <td>...</td>\n",
       "    </tr>\n",
       "    <tr>\n",
       "      <th>10835</th>\n",
       "      <td>0.299911</td>\n",
       "      <td>12000000</td>\n",
       "      <td>20000000</td>\n",
       "      <td>The Sand Pebbles</td>\n",
       "      <td>182</td>\n",
       "      <td>Action|Adventure|Drama|War|Romance</td>\n",
       "      <td>2066-12-20</td>\n",
       "      <td>28</td>\n",
       "      <td>7.0</td>\n",
       "      <td>1966</td>\n",
       "      <td>8.061618e+07</td>\n",
       "      <td>1.343603e+08</td>\n",
       "    </tr>\n",
       "    <tr>\n",
       "      <th>10841</th>\n",
       "      <td>0.264925</td>\n",
       "      <td>75000</td>\n",
       "      <td>0</td>\n",
       "      <td>The Shooting</td>\n",
       "      <td>82</td>\n",
       "      <td>Western</td>\n",
       "      <td>2066-10-23</td>\n",
       "      <td>12</td>\n",
       "      <td>5.5</td>\n",
       "      <td>1966</td>\n",
       "      <td>5.038511e+05</td>\n",
       "      <td>0.000000e+00</td>\n",
       "    </tr>\n",
       "    <tr>\n",
       "      <th>10848</th>\n",
       "      <td>0.207257</td>\n",
       "      <td>5115000</td>\n",
       "      <td>12000000</td>\n",
       "      <td>Fantastic Voyage</td>\n",
       "      <td>100</td>\n",
       "      <td>Adventure|Science Fiction</td>\n",
       "      <td>2066-08-24</td>\n",
       "      <td>42</td>\n",
       "      <td>6.7</td>\n",
       "      <td>1966</td>\n",
       "      <td>3.436265e+07</td>\n",
       "      <td>8.061618e+07</td>\n",
       "    </tr>\n",
       "    <tr>\n",
       "      <th>10855</th>\n",
       "      <td>0.141026</td>\n",
       "      <td>700000</td>\n",
       "      <td>0</td>\n",
       "      <td>The Ghost &amp; Mr. Chicken</td>\n",
       "      <td>90</td>\n",
       "      <td>Comedy|Family|Mystery|Romance</td>\n",
       "      <td>2066-01-20</td>\n",
       "      <td>14</td>\n",
       "      <td>6.1</td>\n",
       "      <td>1966</td>\n",
       "      <td>4.702610e+06</td>\n",
       "      <td>0.000000e+00</td>\n",
       "    </tr>\n",
       "    <tr>\n",
       "      <th>10865</th>\n",
       "      <td>0.035919</td>\n",
       "      <td>19000</td>\n",
       "      <td>0</td>\n",
       "      <td>Manos: The Hands of Fate</td>\n",
       "      <td>74</td>\n",
       "      <td>Horror</td>\n",
       "      <td>2066-11-15</td>\n",
       "      <td>15</td>\n",
       "      <td>1.5</td>\n",
       "      <td>1966</td>\n",
       "      <td>1.276423e+05</td>\n",
       "      <td>0.000000e+00</td>\n",
       "    </tr>\n",
       "  </tbody>\n",
       "</table>\n",
       "<p>2142 rows × 12 columns</p>\n",
       "</div>"
      ],
      "text/plain": [
       "       popularity    budget   revenue            original_title  runtime  \\\n",
       "35       3.557846   6000000  35401758                      Room      117   \n",
       "39       3.227329  11000000  62076141                  Brooklyn      111   \n",
       "45       3.023253  10000000  14333790            Hardcore Henry       97   \n",
       "47       2.968254  12000000  85512300               Paper Towns      109   \n",
       "49       2.885126   4000000   9064511               The Lobster      118   \n",
       "...           ...       ...       ...                       ...      ...   \n",
       "10835    0.299911  12000000  20000000          The Sand Pebbles      182   \n",
       "10841    0.264925     75000         0              The Shooting       82   \n",
       "10848    0.207257   5115000  12000000          Fantastic Voyage      100   \n",
       "10855    0.141026    700000         0   The Ghost & Mr. Chicken       90   \n",
       "10865    0.035919     19000         0  Manos: The Hands of Fate       74   \n",
       "\n",
       "                                              genres release_date  vote_count  \\\n",
       "35                                    Drama|Thriller   2015-10-16        1520   \n",
       "39                                     Drama|Romance   2015-11-04         754   \n",
       "45                  Action|Adventure|Science Fiction   2015-09-12         396   \n",
       "47                             Drama|Mystery|Romance   2015-07-09        1252   \n",
       "49     Thriller|Comedy|Drama|Romance|Science Fiction   2015-10-08         638   \n",
       "...                                              ...          ...         ...   \n",
       "10835             Action|Adventure|Drama|War|Romance   2066-12-20          28   \n",
       "10841                                        Western   2066-10-23          12   \n",
       "10848                      Adventure|Science Fiction   2066-08-24          42   \n",
       "10855                  Comedy|Family|Mystery|Romance   2066-01-20          14   \n",
       "10865                                         Horror   2066-11-15          15   \n",
       "\n",
       "       vote_average  release_year    budget_adj   revenue_adj  \n",
       "35              8.0          2015  5.519998e+06  3.256960e+07  \n",
       "39              7.3          2015  1.012000e+07  5.711002e+07  \n",
       "45              5.9          2015  9.199996e+06  1.318708e+07  \n",
       "47              6.2          2015  1.104000e+07  7.867128e+07  \n",
       "49              6.6          2015  3.679998e+06  8.339346e+06  \n",
       "...             ...           ...           ...           ...  \n",
       "10835           7.0          1966  8.061618e+07  1.343603e+08  \n",
       "10841           5.5          1966  5.038511e+05  0.000000e+00  \n",
       "10848           6.7          1966  3.436265e+07  8.061618e+07  \n",
       "10855           6.1          1966  4.702610e+06  0.000000e+00  \n",
       "10865           1.5          1966  1.276423e+05  0.000000e+00  \n",
       "\n",
       "[2142 rows x 12 columns]"
      ]
     },
     "execution_count": 21,
     "metadata": {},
     "output_type": "execute_result"
    }
   ],
   "source": [
    "df_lt = df_no_zeros.query('budget < 13094493') # less than\n",
    "df_lt"
   ]
  },
  {
   "cell_type": "code",
   "execution_count": 22,
   "metadata": {},
   "outputs": [
    {
     "data": {
      "text/plain": [
       "5000"
      ]
     },
     "execution_count": 22,
     "metadata": {},
     "output_type": "execute_result"
    }
   ],
   "source": [
    "df_lt['budget'].min()    # Check the mean"
   ]
  },
  {
   "cell_type": "markdown",
   "metadata": {},
   "source": [
    "#### The mean for upper data"
   ]
  },
  {
   "cell_type": "code",
   "execution_count": 23,
   "metadata": {},
   "outputs": [
    {
     "data": {
      "text/plain": [
       "6.092481203007518"
      ]
     },
     "execution_count": 23,
     "metadata": {},
     "output_type": "execute_result"
    }
   ],
   "source": [
    "\n",
    "df_gt['vote_average'].mean()\n"
   ]
  },
  {
   "cell_type": "markdown",
   "metadata": {},
   "source": [
    "#### The mean for lower data"
   ]
  },
  {
   "cell_type": "code",
   "execution_count": 24,
   "metadata": {},
   "outputs": [
    {
     "data": {
      "text/plain": [
       "5.976283846872082"
      ]
     },
     "execution_count": 24,
     "metadata": {},
     "output_type": "execute_result"
    }
   ],
   "source": [
    "df_lt['vote_average'].mean()"
   ]
  },
  {
   "cell_type": "markdown",
   "metadata": {},
   "source": [
    "### Plotting the results for Q1"
   ]
  },
  {
   "cell_type": "code",
   "execution_count": 25,
   "metadata": {},
   "outputs": [
    {
     "data": {
      "image/png": "[encoded data removed]",
      "text/plain": [
       "<Figure size 720x432 with 1 Axes>"
      ]
     },
     "metadata": {
      "needs_background": "light"
     },
     "output_type": "display_data"
    }
   ],
   "source": [
    "pos= [1,2]\n",
    "tick = ['Low budget', 'High budget']\n",
    "\n",
    "plt.figure(figsize=(10,6))\n",
    "plt.bar(pos, [df_lt['vote_average'].mean(), df_gt['vote_average'].mean()], tick_label= tick)\n",
    "plt.title('Low budget vs High budget')\n",
    "plt.xlabel('Budget')\n",
    "plt.ylabel('average ratings')\n",
    "plt.grid(True)\n",
    "plt.show()"
   ]
  },
  {
   "cell_type": "markdown",
   "metadata": {},
   "source": [
    "##### ----------------------"
   ]
  },
  {
   "cell_type": "markdown",
   "metadata": {},
   "source": [
    "### Research Question 2: Which decade had the best movies ratings"
   ]
  },
  {
   "cell_type": "code",
   "execution_count": 26,
   "metadata": {},
   "outputs": [],
   "source": [
    "average_year_ratings = df.groupby(['release_year'])['vote_average'].mean()  # to get the mean for every year from 1960 to 2015"
   ]
  },
  {
   "cell_type": "code",
   "execution_count": 27,
   "metadata": {},
   "outputs": [],
   "source": [
    "average_year_ratings = list(average_year_ratings)"
   ]
  },
  {
   "cell_type": "markdown",
   "metadata": {},
   "source": [
    "### Function that splits years into decades"
   ]
  },
  {
   "cell_type": "code",
   "execution_count": 28,
   "metadata": {},
   "outputs": [],
   "source": [
    "def years_into_decades(list):\n",
    "    leng = int(np.ceil(len(list)/10))   # This line specifies the number of decades based on the number of years\n",
    "    avg_rate_decades = [] # empty list that will be used to append the average ratings for each decade\n",
    "\n",
    "    for i in range(0, leng*10, 10):\n",
    "        avg_rate_decades.append(np.mean(list[i:i+9])) #Here we take the first 10 years and take the mean from it and then append it to the empty list\n",
    "    \n",
    "    return avg_rate_decades"
   ]
  },
  {
   "cell_type": "code",
   "execution_count": 29,
   "metadata": {},
   "outputs": [
    {
     "data": {
      "text/plain": [
       "[6.280977093148428,\n",
       " 6.386769609984999,\n",
       " 6.091053893388139,\n",
       " 5.999757518821272,\n",
       " 5.930518193401429,\n",
       " 5.906362246196544]"
      ]
     },
     "execution_count": 29,
     "metadata": {},
     "output_type": "execute_result"
    }
   ],
   "source": [
    "decades_avg_rating = years_into_decades(average_year_ratings)\n",
    "decades_avg_rating"
   ]
  },
  {
   "cell_type": "markdown",
   "metadata": {},
   "source": [
    "### Plotting the results for Q2"
   ]
  },
  {
   "cell_type": "code",
   "execution_count": 30,
   "metadata": {},
   "outputs": [
    {
     "data": {
      "image/png": "[encoded data removed]",
      "text/plain": [
       "<Figure size 720x432 with 1 Axes>"
      ]
     },
     "metadata": {
      "needs_background": "light"
     },
     "output_type": "display_data"
    }
   ],
   "source": [
    "pos = [1,2,3,4,5, 6]\n",
    "tick = ['1960-1969', '1970-1979', '1980-1989', '1990-1999', '2000-2009', '2010-2015']\n",
    "\n",
    "plt.figure(figsize=(10,6))\n",
    "plt.grid(True)\n",
    "plt.bar(pos, decades_avg_rating, tick_label = tick, linewidth= 9)\n",
    "plt.xlabel('decade')\n",
    "plt.ylabel('average ratings')\n",
    "plt.title('Film quality over 6 decades')\n",
    "plt.show()"
   ]
  },
  {
   "cell_type": "markdown",
   "metadata": {},
   "source": [
    "It is clear that the 70's decade is the best in terms of evaluation, as it is clear from the graph that every decade in which the percentage of evaluations decreases."
   ]
  },
  {
   "cell_type": "markdown",
   "metadata": {},
   "source": [
    "<a id='conclusions'></a>\n",
    "## Conclusions\n",
    "\n"
   ]
  },
  {
   "cell_type": "markdown",
   "metadata": {},
   "source": [
    "In conclusion, I have examined several features, their properties. in the first section, I decided which features I need to use and which features must be dropped. Then, I made some quick exploring between the features and visualize the results.\n",
    "\n",
    "In the next steps and In preparing the data for the analysis I found that the budget's feature has unreasonable budget values for movies. I decided to remove any budget value under 5000.  After that, I split the data into 2 datasets one for the data that greater or equal than the budget's mean and the other for the data below the budget's mean.\n",
    "\n",
    "Finally, I concluded the project by plotting the results for the two questions and put appropriate comments for each."
   ]
  },
  {
   "cell_type": "markdown",
   "metadata": {
    "collapsed": true
   },
   "source": [
    "### Findings\n",
    "##### For Q1\n",
    " 1) Large budget movies don't mean necessarily the movie will have high rates.\n",
    "\n",
    "##### For Q2\n",
    "1) Old movies have a higher average rate than current movies.\n",
    "\n",
    "2) With every decade the movies ratings decreases.\\\n",
    "\n",
    "3) In the next decade, the average rating is expected to reach 5.5"
   ]
  },
  {
   "cell_type": "markdown",
   "metadata": {},
   "source": [
    "### limitations\n",
    "\n",
    "The first thing I have encountered the missing data are huge in some columns. There Are questions that I wanted to work on but unfortunately, the data didn't help and if I worked on them mostly I'll end with inaccurate analysis. After analysing and exploring the data features I picked those two questions.\n",
    "\n",
    "In the second question, it seems the movies not good as before, this is because in the current decade the number of films shown is much more than in previous decades and they show regardless of quality."
   ]
  }
 ],
 "metadata": {
  "kernelspec": {
   "display_name": "Python 3",
   "language": "python",
   "name": "python3"
  },
  "language_info": {
   "codemirror_mode": {
    "name": "ipython",
    "version": 3
   },
   "file_extension": ".py",
   "mimetype": "text/x-python",
   "name": "python",
   "nbconvert_exporter": "python",
   "pygments_lexer": "ipython3",
   "version": "3.8.5"
  }
 },
 "nbformat": 4,
 "nbformat_minor": 2
}
